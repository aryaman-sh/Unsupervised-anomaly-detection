{
 "cells": [
  {
   "cell_type": "code",
   "execution_count": null,
   "id": "98330169",
   "metadata": {},
   "outputs": [],
   "source": [
    "import torch\n",
    "import torch.nn as nn"
   ]
  },
  {
   "cell_type": "code",
   "execution_count": null,
   "id": "9ea848e7",
   "metadata": {},
   "outputs": [],
   "source": [
    "# TODO: Substitue ELBO\n",
    "def ELBO(x):\n",
    "    return 1"
   ]
  },
  {
   "cell_type": "code",
   "execution_count": null,
   "id": "fc9b2e11",
   "metadata": {},
   "outputs": [],
   "source": [
    "def detect(Y, ELBO, T, alpha, n):\n",
    "    \"\"\"\n",
    "    Y: Image with lesion\n",
    "    ELBO: Trained prior\n",
    "    T: masking threshold\n",
    "    alpha: lerning rates per iteration step\n",
    "    n: number of iterations\n",
    "    \"\"\"\n",
    "    X = Y\n",
    "    for i in range(0, n):\n",
    "        tv_loss = #tf.image.total_variation\n",
    "        elbo_loss = ELBO()\n",
    "        \n",
    "        "
   ]
  }
 ],
 "metadata": {
  "kernelspec": {
   "display_name": "Python 3",
   "language": "python",
   "name": "python3"
  },
  "language_info": {
   "codemirror_mode": {
    "name": "ipython",
    "version": 3
   },
   "file_extension": ".py",
   "mimetype": "text/x-python",
   "name": "python",
   "nbconvert_exporter": "python",
   "pygments_lexer": "ipython3",
   "version": "3.9.7"
  }
 },
 "nbformat": 4,
 "nbformat_minor": 5
}
